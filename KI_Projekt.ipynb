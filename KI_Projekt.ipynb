{
  "nbformat": 4,
  "nbformat_minor": 0,
  "metadata": {
    "colab": {
      "name": "KI_Projekt.ipynb",
      "provenance": [],
      "toc_visible": true
    },
    "kernelspec": {
      "name": "python3",
      "display_name": "Python 3"
    }
  },
  "cells": [
    {
      "cell_type": "markdown",
      "metadata": {
        "id": "3xvbNTnCUlha"
      },
      "source": [
        "# Bayesnetz Klassifikation"
      ]
    },
    {
      "cell_type": "markdown",
      "metadata": {
        "id": "_-kdRnf_UqDE"
      },
      "source": [
        "## Pysmile laden\r\n",
        "\r\n",
        "Pysmile kann über den untenstehenden Befehl geladen werden."
      ]
    },
    {
      "cell_type": "code",
      "metadata": {
        "colab": {
          "base_uri": "https://localhost:8080/"
        },
        "id": "mTZd0dTpR7xK",
        "outputId": "f4b9f6d0-6985-4b69-9eeb-79be85840fcb"
      },
      "source": [
        "# Pysmile Bibliothek laden\r\n",
        "!pip install --index-url https://support.bayesfusion.com/pysmile-A/ pysmile"
      ],
      "execution_count": null,
      "outputs": [
        {
          "output_type": "stream",
          "text": [
            "Looking in indexes: https://support.bayesfusion.com/pysmile-A/\n",
            "Requirement already satisfied: pysmile in /usr/local/lib/python3.6/dist-packages (1.6.0)\n"
          ],
          "name": "stdout"
        }
      ]
    },
    {
      "cell_type": "markdown",
      "metadata": {
        "id": "Rx_TfA9wU78H"
      },
      "source": [
        "## Bibliotheken laden"
      ]
    },
    {
      "cell_type": "code",
      "metadata": {
        "id": "-N-HCXcnScAv"
      },
      "source": [
        "# Notwendige Bibliotheken laden\r\n",
        "import pysmile\r\n",
        "import pandas as pd\r\n",
        "import seaborn as sb\r\n",
        "import matplotlib.pyplot as plt\r\n",
        "import numpy as np"
      ],
      "execution_count": null,
      "outputs": []
    },
    {
      "cell_type": "code",
      "metadata": {
        "colab": {
          "base_uri": "https://localhost:8080/",
          "height": 197
        },
        "id": "L_PbuDY2f5KF",
        "outputId": "a82bd256-99c0-4d04-a4b0-b117a67630cf"
      },
      "source": [
        "# Lizenz aktivieren\r\n",
        "pysmile.License((\r\n",
        "\tb\"SMILE LICENSE a69bbace fb6acb09 4764a022 \"\r\n",
        "\tb\"THIS IS AN ACADEMIC LICENSE AND CAN BE USED \"\r\n",
        "\tb\"SOLELY FOR ACADEMIC RESEARCH AND TEACHING, \"\r\n",
        "\tb\"AS DEFINED IN THE BAYESFUSION ACADEMIC \"\r\n",
        "\tb\"SOFTWARE LICENSING AGREEMENT. \"\r\n",
        "\tb\"Serial #: 3flme78g1zfi2eu8jq4h8qhdi \"\r\n",
        "\tb\"Issued for: Julian Blazek (julian.blazek.2000@gmail.com) \"\r\n",
        "\tb\"Academic institution: DHBW Stuttgart \"\r\n",
        "\tb\"Valid until: 2021-06-22 \"\r\n",
        "\tb\"Issued by BayesFusion activation server\"\r\n",
        "\t),[\r\n",
        "\t0xd1,0x17,0x29,0x40,0xe2,0x67,0xbe,0x78,0x07,0x77,0xa6,0x0c,0x26,0xcf,0xe2,0xf4,\r\n",
        "\t0xaf,0x1c,0xce,0xa1,0x76,0x9a,0xe1,0x94,0x98,0x55,0x00,0x1a,0x0a,0xed,0x78,0xa4,\r\n",
        "\t0xe2,0x12,0xeb,0x0d,0x00,0x67,0xf8,0x5b,0x68,0x00,0xf0,0xe9,0x16,0x6a,0x3c,0xe9,\r\n",
        "\t0x1d,0xb7,0x82,0x7d,0x1e,0xe9,0x73,0x28,0x43,0xdf,0xa8,0x9b,0xcf,0x5d,0x2f,0x82])\r\n"
      ],
      "execution_count": null,
      "outputs": [
        {
          "output_type": "error",
          "ename": "ValueError",
          "evalue": "ignored",
          "traceback": [
            "\u001b[0;31m---------------------------------------------------------------------------\u001b[0m",
            "\u001b[0;31mValueError\u001b[0m                                Traceback (most recent call last)",
            "\u001b[0;32m<ipython-input-228-18c3890f6198>\u001b[0m in \u001b[0;36m<module>\u001b[0;34m()\u001b[0m\n\u001b[1;32m     15\u001b[0m         \u001b[0;36m0xaf\u001b[0m\u001b[0;34m,\u001b[0m\u001b[0;36m0x1c\u001b[0m\u001b[0;34m,\u001b[0m\u001b[0;36m0xce\u001b[0m\u001b[0;34m,\u001b[0m\u001b[0;36m0xa1\u001b[0m\u001b[0;34m,\u001b[0m\u001b[0;36m0x76\u001b[0m\u001b[0;34m,\u001b[0m\u001b[0;36m0x9a\u001b[0m\u001b[0;34m,\u001b[0m\u001b[0;36m0xe1\u001b[0m\u001b[0;34m,\u001b[0m\u001b[0;36m0x94\u001b[0m\u001b[0;34m,\u001b[0m\u001b[0;36m0x98\u001b[0m\u001b[0;34m,\u001b[0m\u001b[0;36m0x55\u001b[0m\u001b[0;34m,\u001b[0m\u001b[0;36m0x00\u001b[0m\u001b[0;34m,\u001b[0m\u001b[0;36m0x1a\u001b[0m\u001b[0;34m,\u001b[0m\u001b[0;36m0x0a\u001b[0m\u001b[0;34m,\u001b[0m\u001b[0;36m0xed\u001b[0m\u001b[0;34m,\u001b[0m\u001b[0;36m0x78\u001b[0m\u001b[0;34m,\u001b[0m\u001b[0;36m0xa4\u001b[0m\u001b[0;34m,\u001b[0m\u001b[0;34m\u001b[0m\u001b[0;34m\u001b[0m\u001b[0m\n\u001b[1;32m     16\u001b[0m         \u001b[0;36m0xe2\u001b[0m\u001b[0;34m,\u001b[0m\u001b[0;36m0x12\u001b[0m\u001b[0;34m,\u001b[0m\u001b[0;36m0xeb\u001b[0m\u001b[0;34m,\u001b[0m\u001b[0;36m0x0d\u001b[0m\u001b[0;34m,\u001b[0m\u001b[0;36m0x00\u001b[0m\u001b[0;34m,\u001b[0m\u001b[0;36m0x67\u001b[0m\u001b[0;34m,\u001b[0m\u001b[0;36m0xf8\u001b[0m\u001b[0;34m,\u001b[0m\u001b[0;36m0x5b\u001b[0m\u001b[0;34m,\u001b[0m\u001b[0;36m0x68\u001b[0m\u001b[0;34m,\u001b[0m\u001b[0;36m0x00\u001b[0m\u001b[0;34m,\u001b[0m\u001b[0;36m0xf0\u001b[0m\u001b[0;34m,\u001b[0m\u001b[0;36m0xe9\u001b[0m\u001b[0;34m,\u001b[0m\u001b[0;36m0x16\u001b[0m\u001b[0;34m,\u001b[0m\u001b[0;36m0x6a\u001b[0m\u001b[0;34m,\u001b[0m\u001b[0;36m0x3c\u001b[0m\u001b[0;34m,\u001b[0m\u001b[0;36m0xe9\u001b[0m\u001b[0;34m,\u001b[0m\u001b[0;34m\u001b[0m\u001b[0;34m\u001b[0m\u001b[0m\n\u001b[0;32m---> 17\u001b[0;31m \t0x1d,0xb7,0x82,0x7d,0x1e,0xe9,0x73,0x28,0x43,0xdf,0xa8,0x9b,0xcf,0x5d,0x2f,0x82])\n\u001b[0m",
            "\u001b[0;31mValueError\u001b[0m: License already initialized."
          ]
        }
      ]
    },
    {
      "cell_type": "code",
      "metadata": {
        "id": "J1muy46-ZALq"
      },
      "source": [
        "#test = pd.read_csv('P1_DP11_Wohnungen_Test.csv')"
      ],
      "execution_count": null,
      "outputs": []
    },
    {
      "cell_type": "markdown",
      "metadata": {
        "id": "UO10xOD4VAhm"
      },
      "source": [
        "## Netz importieren und verifizieren"
      ]
    },
    {
      "cell_type": "code",
      "metadata": {
        "id": "5Cp4kAwvSqHJ"
      },
      "source": [
        "# Netz initialisieren\r\n",
        "net = pysmile.Network()"
      ],
      "execution_count": null,
      "outputs": []
    },
    {
      "cell_type": "code",
      "metadata": {
        "id": "b8HjXShISSRr"
      },
      "source": [
        "# Bereits erstelltes Netz laden\r\n",
        "net.read_file(\"P1_DP11_Wohnungen_X_3.xdsl\")"
      ],
      "execution_count": null,
      "outputs": []
    },
    {
      "cell_type": "code",
      "metadata": {
        "colab": {
          "base_uri": "https://localhost:8080/"
        },
        "id": "SsDRjEQjTeAg",
        "outputId": "0dc23362-0c55-4705-9dff-32a1b3d6db32"
      },
      "source": [
        "# Alle Nodes ausgeben (Verifikation, dass Import geklappt hat)\r\n",
        "net.get_all_node_ids()"
      ],
      "execution_count": null,
      "outputs": [
        {
          "output_type": "execute_result",
          "data": {
            "text/plain": [
              "['\\ufeffZimmerzahl',\n",
              " 'Aufzug',\n",
              " 'Stockwerk',\n",
              " 'Alter',\n",
              " 'Heizung',\n",
              " 'Hausmeister',\n",
              " 'Lage',\n",
              " 'Kindergarten',\n",
              " 'Schule',\n",
              " 'S_Bahn',\n",
              " 'Garage',\n",
              " 'Bad',\n",
              " 'Balkon',\n",
              " 'Terrasse',\n",
              " 'Quadratmeter',\n",
              " 'Miete',\n",
              " 'Nebenkosten',\n",
              " 'Kaution',\n",
              " 'Kueche',\n",
              " 'Kehrwoche',\n",
              " 'Moebliert',\n",
              " 'Studierende',\n",
              " 'Kleinfamilie',\n",
              " 'DINK',\n",
              " 'Alleinerziehende',\n",
              " 'Expatriate',\n",
              " 'Rentnerpaar']"
            ]
          },
          "metadata": {
            "tags": []
          },
          "execution_count": 232
        }
      ]
    },
    {
      "cell_type": "code",
      "metadata": {
        "id": "IYi9CwqVmZVM"
      },
      "source": [
        "net.set_node_id(\"\\ufeffZimmerzahl\", \"Zimmerzahl\")"
      ],
      "execution_count": null,
      "outputs": []
    },
    {
      "cell_type": "code",
      "metadata": {
        "colab": {
          "base_uri": "https://localhost:8080/"
        },
        "id": "mTmrMOHLTv2o",
        "outputId": "07346cca-0119-4963-f6ee-4c8b4d2ad563"
      },
      "source": [
        "# Beispielsausgabe, alle Kindernodes von \"Miete\"\r\n",
        "net.get_child_ids('Miete')\r\n"
      ],
      "execution_count": null,
      "outputs": [
        {
          "output_type": "execute_result",
          "data": {
            "text/plain": [
              "['Kaution', 'Studierende', 'Kleinfamilie', 'Alleinerziehende', 'Rentnerpaar']"
            ]
          },
          "metadata": {
            "tags": []
          },
          "execution_count": 234
        }
      ]
    },
    {
      "cell_type": "code",
      "metadata": {
        "id": "YqX_S1THWupO"
      },
      "source": [
        "net.update_beliefs()"
      ],
      "execution_count": null,
      "outputs": []
    },
    {
      "cell_type": "code",
      "metadata": {
        "colab": {
          "base_uri": "https://localhost:8080/"
        },
        "id": "AiWdMC4zW-J2",
        "outputId": "0f5accab-15bd-4076-8ae9-71ea6ce2552e"
      },
      "source": [
        "beliefs = net.get_node_value(\"Studierende\")\r\n",
        "beliefs"
      ],
      "execution_count": null,
      "outputs": [
        {
          "output_type": "execute_result",
          "data": {
            "text/plain": [
              "[0.1800559339456709, 0.8199440660543291]"
            ]
          },
          "metadata": {
            "tags": []
          },
          "execution_count": 236
        }
      ]
    },
    {
      "cell_type": "code",
      "metadata": {
        "id": "-aoBXWX5YDBz"
      },
      "source": [
        "net.set_evidence(\"Terrasse\", \"ja\")"
      ],
      "execution_count": null,
      "outputs": []
    },
    {
      "cell_type": "code",
      "metadata": {
        "id": "ZBX5_qDsYEHB"
      },
      "source": [
        "net.set_evidence(\"Moebliert\", \"ja\")"
      ],
      "execution_count": null,
      "outputs": []
    },
    {
      "cell_type": "code",
      "metadata": {
        "id": "Xou1ZFdEYoUj"
      },
      "source": [
        "net.update_beliefs()"
      ],
      "execution_count": null,
      "outputs": []
    },
    {
      "cell_type": "code",
      "metadata": {
        "colab": {
          "base_uri": "https://localhost:8080/"
        },
        "id": "3iaan0IVYsZ4",
        "outputId": "76bbcd72-3a69-4f05-f1a8-b0cf33844d45"
      },
      "source": [
        "net.get_node_value(\"Studierende\")"
      ],
      "execution_count": null,
      "outputs": [
        {
          "output_type": "execute_result",
          "data": {
            "text/plain": [
              "[0.300114407085491, 0.699885592914509]"
            ]
          },
          "metadata": {
            "tags": []
          },
          "execution_count": 240
        }
      ]
    },
    {
      "cell_type": "code",
      "metadata": {
        "id": "CcmEuHwAgtvI"
      },
      "source": [
        "# Evidences zurücksetzen\r\n",
        "net.clear_all_evidence()\r\n",
        "net.update_beliefs()"
      ],
      "execution_count": null,
      "outputs": []
    },
    {
      "cell_type": "markdown",
      "metadata": {
        "id": "x4PgCVJq6Wer"
      },
      "source": [
        "## Dataset laden und Anpassungen"
      ]
    },
    {
      "cell_type": "code",
      "metadata": {
        "id": "M8l0cCRvklwn"
      },
      "source": [
        "ds = pysmile.learning.DataSet()"
      ],
      "execution_count": null,
      "outputs": []
    },
    {
      "cell_type": "code",
      "metadata": {
        "id": "ppfcddMWoNF2"
      },
      "source": [
        "import re\r\n",
        "def adjustNames(names):\r\n",
        "  i = 2\r\n",
        "  newnames = []\r\n",
        "  for name in names:\r\n",
        "    if name[:1].isdigit():\r\n",
        "      name = 's_' + name\r\n",
        "    #name = re.sub('\\s|\\.|-|\\(|\\)', '_', name)\r\n",
        "    name = re.sub('\\W', '_', name)\r\n",
        "    if name in newnames:\r\n",
        "      name = name + str(i)\r\n",
        "      i = i+1\r\n",
        "    newnames.append(name)\r\n",
        "  return newnames"
      ],
      "execution_count": null,
      "outputs": []
    },
    {
      "cell_type": "code",
      "metadata": {
        "colab": {
          "base_uri": "https://localhost:8080/"
        },
        "id": "RE19VvfWox68",
        "outputId": "af7ca76b-9bf3-495a-f9f0-1e7856a0f53f"
      },
      "source": [
        "adjustNames(['1.Stock','2-Stock)-(','1.Stock'])"
      ],
      "execution_count": null,
      "outputs": [
        {
          "output_type": "execute_result",
          "data": {
            "text/plain": [
              "['s_1_Stock', 's_2_Stock___', 's_1_Stock2']"
            ]
          },
          "metadata": {
            "tags": []
          },
          "execution_count": 244
        }
      ]
    },
    {
      "cell_type": "code",
      "metadata": {
        "id": "0HDUyyGLkr5m"
      },
      "source": [
        "ds.read_file(\"P1_DP11_Wohnungen_Test.csv\")\r\n",
        "for i in range(ds.get_variable_count()):\r\n",
        "  state_names = ds.get_state_names(i)\r\n",
        "  state_names = adjustNames(state_names)\r\n",
        "  ds.set_state_names(i, state_names)"
      ],
      "execution_count": null,
      "outputs": []
    },
    {
      "cell_type": "markdown",
      "metadata": {
        "id": "AxYWh88H6zCF"
      },
      "source": [
        "## Validierung"
      ]
    },
    {
      "cell_type": "code",
      "metadata": {
        "id": "yuj7dn9Ek3LY"
      },
      "source": [
        "matches = ds.match_network(net)"
      ],
      "execution_count": null,
      "outputs": []
    },
    {
      "cell_type": "code",
      "metadata": {
        "id": "7CjqLurulDCQ"
      },
      "source": [
        "validator = pysmile.learning.Validator(net, ds, matches)"
      ],
      "execution_count": null,
      "outputs": []
    },
    {
      "cell_type": "code",
      "metadata": {
        "id": "qhs3O3l1vB48"
      },
      "source": [
        "for output in ['Studierende', 'Kleinfamilie', 'DINK', 'Alleinerziehende', 'Expatriate', 'Rentnerpaar']:\r\n",
        "  validator.add_class_node(net.get_node(output))"
      ],
      "execution_count": null,
      "outputs": []
    },
    {
      "cell_type": "code",
      "metadata": {
        "id": "2698zs04v1T3"
      },
      "source": [
        "validator.test()"
      ],
      "execution_count": null,
      "outputs": []
    },
    {
      "cell_type": "code",
      "metadata": {
        "id": "9Ty2apKtvIH7"
      },
      "source": [
        "results = validator.get_result_data_set()"
      ],
      "execution_count": null,
      "outputs": []
    },
    {
      "cell_type": "code",
      "metadata": {
        "id": "1_ttRb-HybCE"
      },
      "source": [
        "results.write_file('results.csv')"
      ],
      "execution_count": null,
      "outputs": []
    },
    {
      "cell_type": "code",
      "metadata": {
        "colab": {
          "base_uri": "https://localhost:8080/",
          "height": 1000
        },
        "id": "Zm1Ho9htwtdT",
        "outputId": "04297c3e-e6bb-49b8-e011-de96bc8fb8c8"
      },
      "source": [
        "#import seaborn as sb\r\n",
        "#import matplotlib.pyplot as plt\r\n",
        "#import numpy as np\r\n",
        "\r\n",
        "for output in ['Studierende', 'Kleinfamilie', 'DINK', 'Alleinerziehende', 'Expatriate', 'Rentnerpaar']:\r\n",
        "  print(output)\r\n",
        "  print(validator.get_accuracy(output, \"ja\"))\r\n",
        "  sb.heatmap(validator.get_confusion_matrix(output), annot = True, fmt = 'd')\r\n",
        "  plt.show()"
      ],
      "execution_count": null,
      "outputs": [
        {
          "output_type": "stream",
          "text": [
            "Studierende\n",
            "1.0\n"
          ],
          "name": "stdout"
        },
        {
          "output_type": "display_data",
          "data": {
            "image/png": "[encoded data removed]",
            "text/plain": [
              "<Figure size 432x288 with 2 Axes>"
            ]
          },
          "metadata": {
            "tags": [],
            "needs_background": "light"
          }
        },
        {
          "output_type": "stream",
          "text": [
            "Kleinfamilie\n",
            "0.9166666666666666\n"
          ],
          "name": "stdout"
        },
        {
          "output_type": "display_data",
          "data": {
            "image/png": "[encoded data removed]",
            "text/plain": [
              "<Figure size 432x288 with 2 Axes>"
            ]
          },
          "metadata": {
            "tags": [],
            "needs_background": "light"
          }
        },
        {
          "output_type": "stream",
          "text": [
            "DINK\n",
            "0.0\n"
          ],
          "name": "stdout"
        },
        {
          "output_type": "display_data",
          "data": {
            "image/png": "[encoded data removed]",
            "text/plain": [
              "<Figure size 432x288 with 2 Axes>"
            ]
          },
          "metadata": {
            "tags": [],
            "needs_background": "light"
          }
        },
        {
          "output_type": "stream",
          "text": [
            "Alleinerziehende\n",
            "0.0\n"
          ],
          "name": "stdout"
        },
        {
          "output_type": "display_data",
          "data": {
            "image/png": "[encoded data removed]",
            "text/plain": [
              "<Figure size 432x288 with 2 Axes>"
            ]
          },
          "metadata": {
            "tags": [],
            "needs_background": "light"
          }
        },
        {
          "output_type": "stream",
          "text": [
            "Expatriate\n",
            "nan\n"
          ],
          "name": "stdout"
        },
        {
          "output_type": "display_data",
          "data": {
            "image/png": "[encoded data removed]",
            "text/plain": [
              "<Figure size 432x288 with 2 Axes>"
            ]
          },
          "metadata": {
            "tags": [],
            "needs_background": "light"
          }
        },
        {
          "output_type": "stream",
          "text": [
            "Rentnerpaar\n",
            "0.0\n"
          ],
          "name": "stdout"
        },
        {
          "output_type": "display_data",
          "data": {
            "image/png": "[encoded data removed]",
            "text/plain": [
              "<Figure size 432x288 with 2 Axes>"
            ]
          },
          "metadata": {
            "tags": [],
            "needs_background": "light"
          }
        }
      ]
    },
    {
      "cell_type": "code",
      "metadata": {
        "id": "onEZXbwD0S3c"
      },
      "source": [
        "# for i in range(ds.get_variable_count()):\r\n",
        "#   print(list(ds.get_variable_id(i)))\r\n",
        "#   print(ds.get_int(i, 9))\r\n",
        "#   if ds.get_variable_id(i) in ['Studierende', 'Kleinfamilie', 'DINK', 'Alleinerziehende', 'Expatriate', 'Rentnerpaar']:\r\n",
        "#     continue\r\n",
        "#   net.set_evidence(net.get_node(ds.get_variable_id(i).replace('\\ufeff', '').replace('-', '_')), ds.get_int(i, 9))"
      ],
      "execution_count": null,
      "outputs": []
    },
    {
      "cell_type": "code",
      "metadata": {
        "id": "WerKD3hL4di_"
      },
      "source": [
        "net.update_beliefs()"
      ],
      "execution_count": null,
      "outputs": []
    },
    {
      "cell_type": "code",
      "metadata": {
        "colab": {
          "base_uri": "https://localhost:8080/"
        },
        "id": "DBguDIDA3lIq",
        "outputId": "ab50b5e2-54e2-41be-ea3f-effd5025532f"
      },
      "source": [
        "tuple(zip(net.get_outcome_ids(\"Studierende\"), net.get_node_value(\"Studierende\")))"
      ],
      "execution_count": null,
      "outputs": [
        {
          "output_type": "execute_result",
          "data": {
            "text/plain": [
              "(('ja', 0.1800559339456709), ('nein', 0.8199440660543291))"
            ]
          },
          "metadata": {
            "tags": []
          },
          "execution_count": 255
        }
      ]
    },
    {
      "cell_type": "markdown",
      "metadata": {
        "id": "yC9K3KNvgI6N"
      },
      "source": [
        "## Klassifikation"
      ]
    },
    {
      "cell_type": "code",
      "metadata": {
        "id": "DtmkRPAw92gW"
      },
      "source": [
        "def predict(ds, row):\r\n",
        "  net.clear_all_evidence()\r\n",
        "  for i in range(ds.get_variable_count()):\r\n",
        "    if ds.get_variable_id(i) in ['Studierende', 'Kleinfamilie', 'DINK', 'Alleinerziehende', 'Expatriate', 'Rentnerpaar']:\r\n",
        "      continue\r\n",
        "    net.set_evidence(net.get_node(ds.get_variable_id(i).replace('\\ufeff', '').replace('-', '_')), ds.get_int(i, row))\r\n",
        "  net.update_beliefs()"
      ],
      "execution_count": null,
      "outputs": []
    },
    {
      "cell_type": "code",
      "metadata": {
        "colab": {
          "base_uri": "https://localhost:8080/"
        },
        "id": "bbXk-mE5-Y0R",
        "outputId": "7c1462d7-d3eb-4589-9726-bbf62129e842"
      },
      "source": [
        "# Beispielsausgabe Werte für \"Studierende\"\r\n",
        "for row in range(ds.get_record_count()):\r\n",
        "  predict(ds, row)\r\n",
        "  print(row, tuple(zip(net.get_outcome_ids(\"Studierende\"), net.get_node_value(\"Studierende\"))))"
      ],
      "execution_count": null,
      "outputs": [
        {
          "output_type": "stream",
          "text": [
            "0 (('ja', 0.02), ('nein', 0.98))\n",
            "1 (('ja', 0.02), ('nein', 0.98))\n",
            "2 (('ja', 0.04166666666666666), ('nein', 0.9583333333333333))\n",
            "3 (('ja', 0.01923076923076923), ('nein', 0.9807692307692308))\n",
            "4 (('ja', 0.02), ('nein', 0.98))\n",
            "5 (('ja', 0.02941176470588235), ('nein', 0.9705882352941176))\n",
            "6 (('ja', 0.025), ('nein', 0.9750000000000001))\n",
            "7 (('ja', 0.0625), ('nein', 0.9375))\n",
            "8 (('ja', 0.03333333333333333), ('nein', 0.9666666666666667))\n",
            "9 (('ja', 0.6818181818181819), ('nein', 0.3181818181818182))\n",
            "10 (('ja', 0.6666666666666666), ('nein', 0.3333333333333333))\n",
            "11 (('ja', 0.0108695652173913), ('nein', 0.9891304347826086))\n",
            "12 (('ja', 0.1666666666666667), ('nein', 0.8333333333333333))\n",
            "13 (('ja', 0.04166666666666666), ('nein', 0.9583333333333333))\n",
            "14 (('ja', 0.0131578947368421), ('nein', 0.9868421052631579))\n",
            "15 (('ja', 0.07142857142857142), ('nein', 0.9285714285714285))\n",
            "16 (('ja', 0.02), ('nein', 0.98))\n",
            "17 (('ja', 0.0108695652173913), ('nein', 0.9891304347826086))\n",
            "18 (('ja', 0.02), ('nein', 0.98))\n",
            "19 (('ja', 0.6818181818181819), ('nein', 0.3181818181818182))\n",
            "20 (('ja', 0.02), ('nein', 0.98))\n",
            "21 (('ja', 0.03846153846153846), ('nein', 0.9615384615384616))\n",
            "22 (('ja', 0.02777777777777778), ('nein', 0.9722222222222222))\n",
            "23 (('ja', 0.5), ('nein', 0.5))\n",
            "24 (('ja', 0.02), ('nein', 0.98))\n",
            "25 (('ja', 0.1666666666666667), ('nein', 0.8333333333333333))\n",
            "26 (('ja', 0.05555555555555555), ('nein', 0.9444444444444444))\n",
            "27 (('ja', 0.04166666666666666), ('nein', 0.9583333333333333))\n",
            "28 (('ja', 0.02777777777777778), ('nein', 0.9722222222222222))\n",
            "29 (('ja', 0.1666666666666667), ('nein', 0.8333333333333333))\n",
            "30 (('ja', 0.03333333333333333), ('nein', 0.9666666666666667))\n",
            "31 (('ja', 0.6818181818181819), ('nein', 0.3181818181818182))\n",
            "32 (('ja', 0.02), ('nein', 0.98))\n",
            "33 (('ja', 0.0108695652173913), ('nein', 0.9891304347826086))\n",
            "34 (('ja', 0.05), ('nein', 0.9500000000000001))\n",
            "35 (('ja', 0.02777777777777778), ('nein', 0.9722222222222222))\n",
            "36 (('ja', 0.04166666666666666), ('nein', 0.9583333333333333))\n",
            "37 (('ja', 0.0108695652173913), ('nein', 0.9891304347826086))\n",
            "38 (('ja', 0.0108695652173913), ('nein', 0.9891304347826086))\n",
            "39 (('ja', 0.02941176470588235), ('nein', 0.9705882352941176))\n",
            "40 (('ja', 0.05), ('nein', 0.9500000000000001))\n",
            "41 (('ja', 0.02), ('nein', 0.98))\n",
            "42 (('ja', 0.25), ('nein', 0.75))\n",
            "43 (('ja', 0.04545454545454546), ('nein', 0.9545454545454546))\n",
            "44 (('ja', 0.0108695652173913), ('nein', 0.9891304347826086))\n",
            "45 (('ja', 0.0131578947368421), ('nein', 0.9868421052631579))\n",
            "46 (('ja', 0.02), ('nein', 0.98))\n",
            "47 (('ja', 0.02941176470588235), ('nein', 0.9705882352941176))\n",
            "48 (('ja', 0.01724137931034483), ('nein', 0.9827586206896551))\n",
            "49 (('ja', 0.1666666666666667), ('nein', 0.8333333333333333))\n",
            "50 (('ja', 0.03333333333333333), ('nein', 0.9666666666666667))\n",
            "51 (('ja', 0.05), ('nein', 0.9500000000000001))\n",
            "52 (('ja', 0.0625), ('nein', 0.9375))\n",
            "53 (('ja', 0.03333333333333333), ('nein', 0.9666666666666667))\n",
            "54 (('ja', 0.03333333333333333), ('nein', 0.9666666666666667))\n",
            "55 (('ja', 0.02), ('nein', 0.98))\n",
            "56 (('ja', 0.0131578947368421), ('nein', 0.9868421052631579))\n",
            "57 (('ja', 0.02), ('nein', 0.98))\n",
            "58 (('ja', 0.02777777777777778), ('nein', 0.9722222222222222))\n",
            "59 (('ja', 0.02), ('nein', 0.98))\n",
            "60 (('ja', 0.02941176470588235), ('nein', 0.9705882352941176))\n",
            "61 (('ja', 0.03846153846153846), ('nein', 0.9615384615384616))\n",
            "62 (('ja', 0.0108695652173913), ('nein', 0.9891304347826086))\n",
            "63 (('ja', 0.05555555555555555), ('nein', 0.9444444444444444))\n",
            "64 (('ja', 0.04166666666666666), ('nein', 0.9583333333333333))\n",
            "65 (('ja', 0.02941176470588235), ('nein', 0.9705882352941176))\n",
            "66 (('ja', 0.0108695652173913), ('nein', 0.9891304347826086))\n",
            "67 (('ja', 0.6666666666666666), ('nein', 0.3333333333333333))\n",
            "68 (('ja', 0.025), ('nein', 0.9750000000000001))\n",
            "69 (('ja', 0.0625), ('nein', 0.9375))\n",
            "70 (('ja', 0.0131578947368421), ('nein', 0.9868421052631579))\n",
            "71 (('ja', 0.02), ('nein', 0.98))\n",
            "72 (('ja', 0.03333333333333333), ('nein', 0.9666666666666667))\n",
            "73 (('ja', 0.02), ('nein', 0.98))\n",
            "74 (('ja', 0.01724137931034483), ('nein', 0.9827586206896551))\n",
            "75 (('ja', 0.0131578947368421), ('nein', 0.9868421052631579))\n",
            "76 (('ja', 0.0108695652173913), ('nein', 0.9891304347826086))\n",
            "77 (('ja', 0.6818181818181819), ('nein', 0.3181818181818182))\n",
            "78 (('ja', 0.01923076923076923), ('nein', 0.9807692307692308))\n",
            "79 (('ja', 0.02), ('nein', 0.98))\n",
            "80 (('ja', 0.08333333333333333), ('nein', 0.9166666666666666))\n",
            "81 (('ja', 0.02777777777777778), ('nein', 0.9722222222222222))\n",
            "82 (('ja', 0.6818181818181819), ('nein', 0.3181818181818182))\n",
            "83 (('ja', 0.07142857142857142), ('nein', 0.9285714285714285))\n",
            "84 (('ja', 0.03333333333333333), ('nein', 0.9666666666666667))\n",
            "85 (('ja', 0.02), ('nein', 0.98))\n",
            "86 (('ja', 0.6666666666666666), ('nein', 0.3333333333333333))\n",
            "87 (('ja', 0.1666666666666667), ('nein', 0.8333333333333333))\n",
            "88 (('ja', 0.02), ('nein', 0.98))\n",
            "89 (('ja', 0.03333333333333333), ('nein', 0.9666666666666667))\n",
            "90 (('ja', 0.01923076923076923), ('nein', 0.9807692307692308))\n",
            "91 (('ja', 0.6818181818181819), ('nein', 0.3181818181818182))\n",
            "92 (('ja', 0.04545454545454546), ('nein', 0.9545454545454546))\n",
            "93 (('ja', 0.01724137931034483), ('nein', 0.9827586206896551))\n",
            "94 (('ja', 0.01923076923076923), ('nein', 0.9807692307692308))\n",
            "95 (('ja', 0.01923076923076923), ('nein', 0.9807692307692308))\n",
            "96 (('ja', 0.03333333333333333), ('nein', 0.9666666666666667))\n",
            "97 (('ja', 0.03846153846153846), ('nein', 0.9615384615384616))\n",
            "98 (('ja', 0.02777777777777778), ('nein', 0.9722222222222222))\n",
            "99 (('ja', 0.0625), ('nein', 0.9375))\n",
            "100 (('ja', 0.03333333333333333), ('nein', 0.9666666666666667))\n",
            "101 (('ja', 0.025), ('nein', 0.9750000000000001))\n",
            "102 (('ja', 0.03846153846153846), ('nein', 0.9615384615384616))\n",
            "103 (('ja', 0.25), ('nein', 0.75))\n",
            "104 (('ja', 0.02), ('nein', 0.98))\n",
            "105 (('ja', 0.02), ('nein', 0.98))\n",
            "106 (('ja', 0.01724137931034483), ('nein', 0.9827586206896551))\n",
            "107 (('ja', 0.6666666666666666), ('nein', 0.3333333333333333))\n",
            "108 (('ja', 0.0131578947368421), ('nein', 0.9868421052631579))\n",
            "109 (('ja', 0.04545454545454546), ('nein', 0.9545454545454546))\n",
            "110 (('ja', 0.6818181818181819), ('nein', 0.3181818181818182))\n",
            "111 (('ja', 0.05), ('nein', 0.9500000000000001))\n",
            "112 (('ja', 0.05), ('nein', 0.9500000000000001))\n",
            "113 (('ja', 0.04545454545454546), ('nein', 0.9545454545454546))\n",
            "114 (('ja', 0.6818181818181819), ('nein', 0.3181818181818182))\n",
            "115 (('ja', 0.0131578947368421), ('nein', 0.9868421052631579))\n",
            "116 (('ja', 0.05555555555555555), ('nein', 0.9444444444444444))\n",
            "117 (('ja', 0.5), ('nein', 0.5))\n",
            "118 (('ja', 0.01923076923076923), ('nein', 0.9807692307692308))\n",
            "119 (('ja', 0.02941176470588235), ('nein', 0.9705882352941176))\n",
            "120 (('ja', 0.1666666666666667), ('nein', 0.8333333333333333))\n",
            "121 (('ja', 0.6818181818181819), ('nein', 0.3181818181818182))\n",
            "122 (('ja', 0.03333333333333333), ('nein', 0.9666666666666667))\n",
            "123 (('ja', 0.02), ('nein', 0.98))\n",
            "124 (('ja', 0.01923076923076923), ('nein', 0.9807692307692308))\n",
            "125 (('ja', 0.01923076923076923), ('nein', 0.9807692307692308))\n",
            "126 (('ja', 0.1666666666666667), ('nein', 0.8333333333333333))\n",
            "127 (('ja', 0.6818181818181819), ('nein', 0.3181818181818182))\n",
            "128 (('ja', 0.02941176470588235), ('nein', 0.9705882352941176))\n",
            "129 (('ja', 0.02777777777777778), ('nein', 0.9722222222222222))\n",
            "130 (('ja', 0.01923076923076923), ('nein', 0.9807692307692308))\n",
            "131 (('ja', 0.02), ('nein', 0.98))\n",
            "132 (('ja', 0.01923076923076923), ('nein', 0.9807692307692308))\n",
            "133 (('ja', 0.03846153846153846), ('nein', 0.9615384615384616))\n",
            "134 (('ja', 0.04166666666666666), ('nein', 0.9583333333333333))\n",
            "135 (('ja', 0.0625), ('nein', 0.9375))\n",
            "136 (('ja', 0.25), ('nein', 0.75))\n",
            "137 (('ja', 0.05), ('nein', 0.9500000000000001))\n",
            "138 (('ja', 0.01923076923076923), ('nein', 0.9807692307692308))\n",
            "139 (('ja', 0.02777777777777778), ('nein', 0.9722222222222222))\n",
            "140 (('ja', 0.1666666666666667), ('nein', 0.8333333333333333))\n",
            "141 (('ja', 0.02941176470588235), ('nein', 0.9705882352941176))\n",
            "142 (('ja', 0.04545454545454546), ('nein', 0.9545454545454546))\n",
            "143 (('ja', 0.03846153846153846), ('nein', 0.9615384615384616))\n",
            "144 (('ja', 0.03333333333333333), ('nein', 0.9666666666666667))\n",
            "145 (('ja', 0.0625), ('nein', 0.9375))\n",
            "146 (('ja', 0.05), ('nein', 0.9500000000000001))\n",
            "147 (('ja', 0.03846153846153846), ('nein', 0.9615384615384616))\n",
            "148 (('ja', 0.5), ('nein', 0.5))\n",
            "149 (('ja', 0.6666666666666666), ('nein', 0.3333333333333333))\n",
            "150 (('ja', 0.02), ('nein', 0.98))\n",
            "151 (('ja', 0.125), ('nein', 0.875))\n",
            "152 (('ja', 0.6666666666666666), ('nein', 0.3333333333333333))\n",
            "153 (('ja', 0.02941176470588235), ('nein', 0.9705882352941176))\n",
            "154 (('ja', 0.04545454545454546), ('nein', 0.9545454545454546))\n",
            "155 (('ja', 0.04545454545454546), ('nein', 0.9545454545454546))\n",
            "156 (('ja', 0.125), ('nein', 0.875))\n",
            "157 (('ja', 0.04545454545454546), ('nein', 0.9545454545454546))\n",
            "158 (('ja', 0.05555555555555555), ('nein', 0.9444444444444444))\n",
            "159 (('ja', 0.0108695652173913), ('nein', 0.9891304347826086))\n",
            "160 (('ja', 0.04545454545454546), ('nein', 0.9545454545454546))\n",
            "161 (('ja', 0.0625), ('nein', 0.9375))\n",
            "162 (('ja', 0.02941176470588235), ('nein', 0.9705882352941176))\n",
            "163 (('ja', 0.05), ('nein', 0.9500000000000001))\n",
            "164 (('ja', 0.02), ('nein', 0.98))\n",
            "165 (('ja', 0.02), ('nein', 0.98))\n",
            "166 (('ja', 0.05), ('nein', 0.9500000000000001))\n",
            "167 (('ja', 0.05555555555555555), ('nein', 0.9444444444444444))\n",
            "168 (('ja', 0.0625), ('nein', 0.9375))\n",
            "169 (('ja', 0.0131578947368421), ('nein', 0.9868421052631579))\n",
            "170 (('ja', 0.04545454545454546), ('nein', 0.9545454545454546))\n",
            "171 (('ja', 0.02777777777777778), ('nein', 0.9722222222222222))\n",
            "172 (('ja', 0.0108695652173913), ('nein', 0.9891304347826086))\n",
            "173 (('ja', 0.02), ('nein', 0.98))\n",
            "174 (('ja', 0.04545454545454546), ('nein', 0.9545454545454546))\n",
            "175 (('ja', 0.02941176470588235), ('nein', 0.9705882352941176))\n",
            "176 (('ja', 0.02), ('nein', 0.98))\n",
            "177 (('ja', 0.04545454545454546), ('nein', 0.9545454545454546))\n",
            "178 (('ja', 0.02941176470588235), ('nein', 0.9705882352941176))\n",
            "179 (('ja', 0.04545454545454546), ('nein', 0.9545454545454546))\n",
            "180 (('ja', 0.5), ('nein', 0.5))\n",
            "181 (('ja', 0.0108695652173913), ('nein', 0.9891304347826086))\n",
            "182 (('ja', 0.0108695652173913), ('nein', 0.9891304347826086))\n",
            "183 (('ja', 0.04545454545454546), ('nein', 0.9545454545454546))\n",
            "184 (('ja', 0.0108695652173913), ('nein', 0.9891304347826086))\n",
            "185 (('ja', 0.0108695652173913), ('nein', 0.9891304347826086))\n",
            "186 (('ja', 0.02777777777777778), ('nein', 0.9722222222222222))\n",
            "187 (('ja', 0.0108695652173913), ('nein', 0.9891304347826086))\n",
            "188 (('ja', 0.1666666666666667), ('nein', 0.8333333333333333))\n",
            "189 (('ja', 0.03333333333333333), ('nein', 0.9666666666666667))\n",
            "190 (('ja', 0.05), ('nein', 0.9500000000000001))\n",
            "191 (('ja', 0.25), ('nein', 0.75))\n",
            "192 (('ja', 0.04545454545454546), ('nein', 0.9545454545454546))\n",
            "193 (('ja', 0.0625), ('nein', 0.9375))\n",
            "194 (('ja', 0.125), ('nein', 0.875))\n",
            "195 (('ja', 0.5), ('nein', 0.5))\n",
            "196 (('ja', 0.1), ('nein', 0.9))\n",
            "197 (('ja', 0.5), ('nein', 0.5))\n",
            "198 (('ja', 0.25), ('nein', 0.75))\n",
            "199 (('ja', 0.0131578947368421), ('nein', 0.9868421052631579))\n",
            "200 (('ja', 0.0131578947368421), ('nein', 0.9868421052631579))\n",
            "201 (('ja', 0.01923076923076923), ('nein', 0.9807692307692308))\n",
            "202 (('ja', 0.02), ('nein', 0.98))\n",
            "203 (('ja', 0.05), ('nein', 0.9500000000000001))\n",
            "204 (('ja', 0.6818181818181819), ('nein', 0.3181818181818182))\n",
            "205 (('ja', 0.0108695652173913), ('nein', 0.9891304347826086))\n",
            "206 (('ja', 0.04166666666666666), ('nein', 0.9583333333333333))\n",
            "207 (('ja', 0.0108695652173913), ('nein', 0.9891304347826086))\n",
            "208 (('ja', 0.0108695652173913), ('nein', 0.9891304347826086))\n",
            "209 (('ja', 0.01724137931034483), ('nein', 0.9827586206896551))\n",
            "210 (('ja', 0.02777777777777778), ('nein', 0.9722222222222222))\n",
            "211 (('ja', 0.6818181818181819), ('nein', 0.3181818181818182))\n",
            "212 (('ja', 0.0108695652173913), ('nein', 0.9891304347826086))\n",
            "213 (('ja', 0.01724137931034483), ('nein', 0.9827586206896551))\n",
            "214 (('ja', 0.04166666666666666), ('nein', 0.9583333333333333))\n",
            "215 (('ja', 0.025), ('nein', 0.9750000000000001))\n",
            "216 (('ja', 0.6818181818181819), ('nein', 0.3181818181818182))\n",
            "217 (('ja', 0.02777777777777778), ('nein', 0.9722222222222222))\n",
            "218 (('ja', 0.25), ('nein', 0.75))\n",
            "219 (('ja', 0.01923076923076923), ('nein', 0.9807692307692308))\n",
            "220 (('ja', 0.0131578947368421), ('nein', 0.9868421052631579))\n",
            "221 (('ja', 0.04545454545454546), ('nein', 0.9545454545454546))\n",
            "222 (('ja', 0.0131578947368421), ('nein', 0.9868421052631579))\n",
            "223 (('ja', 0.04545454545454546), ('nein', 0.9545454545454546))\n",
            "224 (('ja', 0.02777777777777778), ('nein', 0.9722222222222222))\n",
            "225 (('ja', 0.02), ('nein', 0.98))\n",
            "226 (('ja', 0.04545454545454546), ('nein', 0.9545454545454546))\n",
            "227 (('ja', 0.02), ('nein', 0.98))\n",
            "228 (('ja', 0.05555555555555555), ('nein', 0.9444444444444444))\n",
            "229 (('ja', 0.0108695652173913), ('nein', 0.9891304347826086))\n",
            "230 (('ja', 0.05), ('nein', 0.9500000000000001))\n",
            "231 (('ja', 0.0131578947368421), ('nein', 0.9868421052631579))\n",
            "232 (('ja', 0.05555555555555555), ('nein', 0.9444444444444444))\n",
            "233 (('ja', 0.0131578947368421), ('nein', 0.9868421052631579))\n",
            "234 (('ja', 0.03846153846153846), ('nein', 0.9615384615384616))\n",
            "235 (('ja', 0.6666666666666666), ('nein', 0.3333333333333333))\n",
            "236 (('ja', 0.125), ('nein', 0.875))\n",
            "237 (('ja', 0.1), ('nein', 0.9))\n",
            "238 (('ja', 0.02777777777777778), ('nein', 0.9722222222222222))\n",
            "239 (('ja', 0.02), ('nein', 0.98))\n",
            "240 (('ja', 0.05555555555555555), ('nein', 0.9444444444444444))\n",
            "241 (('ja', 0.01724137931034483), ('nein', 0.9827586206896551))\n",
            "242 (('ja', 0.0625), ('nein', 0.9375))\n",
            "243 (('ja', 0.05), ('nein', 0.9500000000000001))\n",
            "244 (('ja', 0.05555555555555555), ('nein', 0.9444444444444444))\n",
            "245 (('ja', 0.02), ('nein', 0.98))\n",
            "246 (('ja', 0.0131578947368421), ('nein', 0.9868421052631579))\n",
            "247 (('ja', 0.01724137931034483), ('nein', 0.9827586206896551))\n",
            "248 (('ja', 0.03846153846153846), ('nein', 0.9615384615384616))\n",
            "249 (('ja', 0.05), ('nein', 0.9500000000000001))\n"
          ],
          "name": "stdout"
        }
      ]
    },
    {
      "cell_type": "markdown",
      "metadata": {
        "id": "5yWc69wfheAd"
      },
      "source": [
        "## Finale Klassifikation"
      ]
    },
    {
      "cell_type": "code",
      "metadata": {
        "colab": {
          "base_uri": "https://localhost:8080/"
        },
        "id": "hVANkyRTAlEq",
        "outputId": "f291e236-6aa4-4c13-d673-0ea241262e1a"
      },
      "source": [
        "# Ergebnisausgabe\r\n",
        "outputs = ['Studierende', 'Kleinfamilie', 'DINK', 'Alleinerziehende', 'Expatriate', 'Rentnerpaar']\r\n",
        "print('i\\t\\t', '\\t'.join(outputs), sep = '')\r\n",
        "for row in range(ds.get_record_count()):\r\n",
        "  predict(ds, row)\r\n",
        "  row_string = str(row)\r\n",
        "  for output in outputs:\r\n",
        "    row_string = row_string + '\\t\\t' + net.get_outcome_ids(output)[net.get_node_value(output).index(max(net.get_node_value(output)))]\r\n",
        "  print(row_string)"
      ],
      "execution_count": null,
      "outputs": [
        {
          "output_type": "stream",
          "text": [
            "i\t\tStudierende\tKleinfamilie\tDINK\tAlleinerziehende\tExpatriate\tRentnerpaar\n",
            "0\t\tnein\t\tja\t\tnein\t\tnein\t\tnein\t\tnein\n",
            "1\t\tnein\t\tja\t\tnein\t\tnein\t\tnein\t\tnein\n",
            "2\t\tnein\t\tnein\t\tnein\t\tnein\t\tnein\t\tnein\n",
            "3\t\tnein\t\tja\t\tnein\t\tnein\t\tnein\t\tnein\n",
            "4\t\tnein\t\tnein\t\tnein\t\tnein\t\tnein\t\tnein\n",
            "5\t\tnein\t\tja\t\tnein\t\tnein\t\tnein\t\tnein\n",
            "6\t\tnein\t\tnein\t\tnein\t\tnein\t\tnein\t\tnein\n",
            "7\t\tnein\t\tnein\t\tnein\t\tnein\t\tnein\t\tnein\n",
            "8\t\tnein\t\tnein\t\tnein\t\tnein\t\tnein\t\tnein\n",
            "9\t\tja\t\tja\t\tnein\t\tnein\t\tnein\t\tnein\n",
            "10\t\tja\t\tnein\t\tnein\t\tnein\t\tnein\t\tnein\n",
            "11\t\tnein\t\tja\t\tnein\t\tnein\t\tnein\t\tnein\n",
            "12\t\tnein\t\tja\t\tnein\t\tnein\t\tnein\t\tnein\n",
            "13\t\tnein\t\tja\t\tnein\t\tnein\t\tnein\t\tnein\n",
            "14\t\tnein\t\tnein\t\tnein\t\tnein\t\tnein\t\tnein\n",
            "15\t\tnein\t\tja\t\tnein\t\tja\t\tnein\t\tnein\n",
            "16\t\tnein\t\tnein\t\tnein\t\tnein\t\tnein\t\tnein\n",
            "17\t\tnein\t\tnein\t\tnein\t\tnein\t\tnein\t\tnein\n",
            "18\t\tnein\t\tnein\t\tnein\t\tnein\t\tnein\t\tnein\n",
            "19\t\tja\t\tnein\t\tnein\t\tnein\t\tnein\t\tnein\n",
            "20\t\tnein\t\tnein\t\tnein\t\tnein\t\tnein\t\tnein\n",
            "21\t\tnein\t\tnein\t\tnein\t\tnein\t\tnein\t\tnein\n",
            "22\t\tnein\t\tnein\t\tnein\t\tnein\t\tnein\t\tnein\n",
            "23\t\tja\t\tja\t\tnein\t\tja\t\tnein\t\tja\n",
            "24\t\tnein\t\tnein\t\tnein\t\tnein\t\tnein\t\tnein\n",
            "25\t\tnein\t\tnein\t\tnein\t\tnein\t\tnein\t\tnein\n",
            "26\t\tnein\t\tnein\t\tnein\t\tnein\t\tnein\t\tnein\n",
            "27\t\tnein\t\tnein\t\tnein\t\tnein\t\tnein\t\tnein\n",
            "28\t\tnein\t\tnein\t\tnein\t\tnein\t\tnein\t\tnein\n",
            "29\t\tnein\t\tja\t\tnein\t\tnein\t\tnein\t\tnein\n",
            "30\t\tnein\t\tnein\t\tnein\t\tnein\t\tnein\t\tnein\n",
            "31\t\tja\t\tnein\t\tnein\t\tnein\t\tnein\t\tnein\n",
            "32\t\tnein\t\tja\t\tnein\t\tnein\t\tnein\t\tnein\n",
            "33\t\tnein\t\tnein\t\tnein\t\tnein\t\tnein\t\tnein\n",
            "34\t\tnein\t\tnein\t\tnein\t\tnein\t\tnein\t\tnein\n",
            "35\t\tnein\t\tnein\t\tnein\t\tnein\t\tnein\t\tnein\n",
            "36\t\tnein\t\tnein\t\tnein\t\tnein\t\tnein\t\tnein\n",
            "37\t\tnein\t\tnein\t\tnein\t\tnein\t\tnein\t\tnein\n",
            "38\t\tnein\t\tja\t\tnein\t\tnein\t\tnein\t\tnein\n",
            "39\t\tnein\t\tnein\t\tnein\t\tnein\t\tnein\t\tnein\n",
            "40\t\tnein\t\tnein\t\tnein\t\tnein\t\tnein\t\tnein\n",
            "41\t\tnein\t\tnein\t\tnein\t\tnein\t\tnein\t\tnein\n",
            "42\t\tnein\t\tja\t\tnein\t\tnein\t\tnein\t\tnein\n",
            "43\t\tnein\t\tnein\t\tnein\t\tnein\t\tnein\t\tnein\n",
            "44\t\tnein\t\tja\t\tnein\t\tnein\t\tnein\t\tnein\n",
            "45\t\tnein\t\tja\t\tnein\t\tnein\t\tnein\t\tnein\n",
            "46\t\tnein\t\tnein\t\tnein\t\tnein\t\tnein\t\tnein\n",
            "47\t\tnein\t\tnein\t\tnein\t\tnein\t\tnein\t\tnein\n",
            "48\t\tnein\t\tnein\t\tnein\t\tnein\t\tnein\t\tnein\n",
            "49\t\tnein\t\tnein\t\tnein\t\tnein\t\tnein\t\tnein\n",
            "50\t\tnein\t\tnein\t\tnein\t\tnein\t\tnein\t\tnein\n",
            "51\t\tnein\t\tnein\t\tnein\t\tnein\t\tnein\t\tnein\n",
            "52\t\tnein\t\tnein\t\tnein\t\tnein\t\tnein\t\tnein\n",
            "53\t\tnein\t\tnein\t\tnein\t\tnein\t\tnein\t\tnein\n",
            "54\t\tnein\t\tja\t\tnein\t\tnein\t\tnein\t\tnein\n",
            "55\t\tnein\t\tnein\t\tnein\t\tnein\t\tnein\t\tnein\n",
            "56\t\tnein\t\tnein\t\tnein\t\tnein\t\tnein\t\tnein\n",
            "57\t\tnein\t\tja\t\tnein\t\tnein\t\tnein\t\tnein\n",
            "58\t\tnein\t\tnein\t\tnein\t\tnein\t\tnein\t\tnein\n",
            "59\t\tnein\t\tnein\t\tnein\t\tnein\t\tnein\t\tnein\n",
            "60\t\tnein\t\tja\t\tnein\t\tnein\t\tnein\t\tnein\n",
            "61\t\tnein\t\tja\t\tnein\t\tnein\t\tnein\t\tnein\n",
            "62\t\tnein\t\tnein\t\tnein\t\tnein\t\tnein\t\tnein\n",
            "63\t\tnein\t\tnein\t\tnein\t\tnein\t\tnein\t\tnein\n",
            "64\t\tnein\t\tnein\t\tnein\t\tnein\t\tnein\t\tnein\n",
            "65\t\tnein\t\tnein\t\tnein\t\tnein\t\tnein\t\tnein\n",
            "66\t\tnein\t\tnein\t\tnein\t\tnein\t\tnein\t\tnein\n",
            "67\t\tja\t\tja\t\tnein\t\tja\t\tnein\t\tnein\n",
            "68\t\tnein\t\tnein\t\tnein\t\tnein\t\tnein\t\tnein\n",
            "69\t\tnein\t\tnein\t\tnein\t\tnein\t\tnein\t\tnein\n",
            "70\t\tnein\t\tnein\t\tnein\t\tnein\t\tnein\t\tnein\n",
            "71\t\tnein\t\tnein\t\tnein\t\tnein\t\tnein\t\tnein\n",
            "72\t\tnein\t\tnein\t\tnein\t\tnein\t\tnein\t\tnein\n",
            "73\t\tnein\t\tnein\t\tnein\t\tnein\t\tnein\t\tnein\n",
            "74\t\tnein\t\tja\t\tnein\t\tnein\t\tnein\t\tnein\n",
            "75\t\tnein\t\tnein\t\tnein\t\tnein\t\tnein\t\tnein\n",
            "76\t\tnein\t\tnein\t\tnein\t\tnein\t\tnein\t\tnein\n",
            "77\t\tja\t\tnein\t\tnein\t\tnein\t\tnein\t\tnein\n",
            "78\t\tnein\t\tja\t\tnein\t\tnein\t\tnein\t\tnein\n",
            "79\t\tnein\t\tja\t\tnein\t\tnein\t\tnein\t\tnein\n",
            "80\t\tnein\t\tnein\t\tnein\t\tnein\t\tnein\t\tnein\n",
            "81\t\tnein\t\tnein\t\tnein\t\tnein\t\tnein\t\tnein\n",
            "82\t\tja\t\tnein\t\tnein\t\tnein\t\tnein\t\tnein\n",
            "83\t\tnein\t\tnein\t\tnein\t\tnein\t\tnein\t\tnein\n",
            "84\t\tnein\t\tnein\t\tnein\t\tnein\t\tnein\t\tnein\n",
            "85\t\tnein\t\tnein\t\tnein\t\tnein\t\tnein\t\tnein\n",
            "86\t\tja\t\tja\t\tnein\t\tnein\t\tnein\t\tnein\n",
            "87\t\tnein\t\tja\t\tnein\t\tnein\t\tnein\t\tnein\n",
            "88\t\tnein\t\tja\t\tnein\t\tnein\t\tnein\t\tnein\n",
            "89\t\tnein\t\tja\t\tnein\t\tnein\t\tnein\t\tnein\n",
            "90\t\tnein\t\tnein\t\tnein\t\tnein\t\tnein\t\tnein\n",
            "91\t\tja\t\tja\t\tnein\t\tja\t\tnein\t\tnein\n",
            "92\t\tnein\t\tja\t\tnein\t\tnein\t\tnein\t\tnein\n",
            "93\t\tnein\t\tnein\t\tnein\t\tnein\t\tnein\t\tnein\n",
            "94\t\tnein\t\tnein\t\tnein\t\tnein\t\tnein\t\tnein\n",
            "95\t\tnein\t\tnein\t\tnein\t\tnein\t\tnein\t\tnein\n",
            "96\t\tnein\t\tja\t\tnein\t\tnein\t\tnein\t\tnein\n",
            "97\t\tnein\t\tja\t\tnein\t\tnein\t\tnein\t\tnein\n",
            "98\t\tnein\t\tnein\t\tnein\t\tnein\t\tnein\t\tnein\n",
            "99\t\tnein\t\tnein\t\tnein\t\tnein\t\tnein\t\tnein\n",
            "100\t\tnein\t\tnein\t\tnein\t\tnein\t\tnein\t\tnein\n",
            "101\t\tnein\t\tnein\t\tnein\t\tnein\t\tnein\t\tnein\n",
            "102\t\tnein\t\tnein\t\tnein\t\tnein\t\tnein\t\tnein\n",
            "103\t\tnein\t\tja\t\tnein\t\tja\t\tnein\t\tnein\n",
            "104\t\tnein\t\tja\t\tnein\t\tnein\t\tnein\t\tnein\n",
            "105\t\tnein\t\tnein\t\tnein\t\tnein\t\tnein\t\tnein\n",
            "106\t\tnein\t\tja\t\tnein\t\tnein\t\tnein\t\tnein\n",
            "107\t\tja\t\tja\t\tnein\t\tja\t\tnein\t\tnein\n",
            "108\t\tnein\t\tnein\t\tnein\t\tnein\t\tnein\t\tnein\n",
            "109\t\tnein\t\tnein\t\tnein\t\tnein\t\tnein\t\tnein\n",
            "110\t\tja\t\tja\t\tnein\t\tnein\t\tnein\t\tnein\n",
            "111\t\tnein\t\tnein\t\tnein\t\tnein\t\tnein\t\tnein\n",
            "112\t\tnein\t\tnein\t\tnein\t\tnein\t\tnein\t\tnein\n",
            "113\t\tnein\t\tnein\t\tnein\t\tnein\t\tnein\t\tnein\n",
            "114\t\tja\t\tja\t\tnein\t\tja\t\tnein\t\tnein\n",
            "115\t\tnein\t\tnein\t\tnein\t\tnein\t\tnein\t\tnein\n",
            "116\t\tnein\t\tnein\t\tnein\t\tnein\t\tnein\t\tnein\n",
            "117\t\tja\t\tnein\t\tnein\t\tnein\t\tnein\t\tnein\n",
            "118\t\tnein\t\tnein\t\tnein\t\tnein\t\tnein\t\tnein\n",
            "119\t\tnein\t\tja\t\tnein\t\tnein\t\tnein\t\tnein\n",
            "120\t\tnein\t\tja\t\tnein\t\tnein\t\tnein\t\tnein\n",
            "121\t\tja\t\tnein\t\tnein\t\tnein\t\tnein\t\tnein\n",
            "122\t\tnein\t\tnein\t\tnein\t\tnein\t\tnein\t\tnein\n",
            "123\t\tnein\t\tja\t\tnein\t\tnein\t\tnein\t\tnein\n",
            "124\t\tnein\t\tja\t\tnein\t\tnein\t\tnein\t\tnein\n",
            "125\t\tnein\t\tnein\t\tnein\t\tnein\t\tnein\t\tnein\n",
            "126\t\tnein\t\tja\t\tnein\t\tnein\t\tja\t\tnein\n",
            "127\t\tja\t\tnein\t\tnein\t\tnein\t\tnein\t\tnein\n",
            "128\t\tnein\t\tnein\t\tnein\t\tnein\t\tnein\t\tnein\n",
            "129\t\tnein\t\tnein\t\tnein\t\tnein\t\tnein\t\tnein\n",
            "130\t\tnein\t\tnein\t\tnein\t\tnein\t\tnein\t\tnein\n",
            "131\t\tnein\t\tnein\t\tnein\t\tnein\t\tnein\t\tnein\n",
            "132\t\tnein\t\tnein\t\tnein\t\tnein\t\tnein\t\tnein\n",
            "133\t\tnein\t\tnein\t\tnein\t\tnein\t\tnein\t\tnein\n",
            "134\t\tnein\t\tnein\t\tnein\t\tnein\t\tnein\t\tnein\n",
            "135\t\tnein\t\tja\t\tnein\t\tnein\t\tnein\t\tnein\n",
            "136\t\tnein\t\tja\t\tnein\t\tja\t\tnein\t\tnein\n",
            "137\t\tnein\t\tnein\t\tnein\t\tnein\t\tnein\t\tnein\n",
            "138\t\tnein\t\tnein\t\tnein\t\tnein\t\tnein\t\tnein\n",
            "139\t\tnein\t\tja\t\tnein\t\tnein\t\tnein\t\tnein\n",
            "140\t\tnein\t\tja\t\tnein\t\tnein\t\tnein\t\tnein\n",
            "141\t\tnein\t\tnein\t\tnein\t\tnein\t\tnein\t\tnein\n",
            "142\t\tnein\t\tja\t\tnein\t\tnein\t\tnein\t\tnein\n",
            "143\t\tnein\t\tnein\t\tnein\t\tnein\t\tnein\t\tnein\n",
            "144\t\tnein\t\tnein\t\tnein\t\tnein\t\tnein\t\tnein\n",
            "145\t\tnein\t\tnein\t\tnein\t\tnein\t\tnein\t\tnein\n",
            "146\t\tnein\t\tnein\t\tnein\t\tnein\t\tnein\t\tnein\n",
            "147\t\tnein\t\tnein\t\tnein\t\tnein\t\tnein\t\tnein\n",
            "148\t\tja\t\tnein\t\tnein\t\tnein\t\tnein\t\tnein\n",
            "149\t\tja\t\tja\t\tnein\t\tnein\t\tnein\t\tnein\n",
            "150\t\tnein\t\tnein\t\tnein\t\tnein\t\tnein\t\tnein\n",
            "151\t\tnein\t\tja\t\tnein\t\tnein\t\tnein\t\tnein\n",
            "152\t\tja\t\tja\t\tnein\t\tja\t\tnein\t\tnein\n",
            "153\t\tnein\t\tja\t\tnein\t\tnein\t\tnein\t\tnein\n",
            "154\t\tnein\t\tja\t\tnein\t\tnein\t\tnein\t\tnein\n",
            "155\t\tnein\t\tnein\t\tnein\t\tnein\t\tnein\t\tnein\n",
            "156\t\tnein\t\tnein\t\tnein\t\tnein\t\tnein\t\tnein\n",
            "157\t\tnein\t\tnein\t\tnein\t\tnein\t\tnein\t\tnein\n",
            "158\t\tnein\t\tnein\t\tnein\t\tnein\t\tnein\t\tnein\n",
            "159\t\tnein\t\tnein\t\tnein\t\tnein\t\tnein\t\tnein\n",
            "160\t\tnein\t\tnein\t\tnein\t\tnein\t\tnein\t\tnein\n",
            "161\t\tnein\t\tnein\t\tnein\t\tnein\t\tnein\t\tnein\n",
            "162\t\tnein\t\tnein\t\tnein\t\tnein\t\tnein\t\tnein\n",
            "163\t\tnein\t\tnein\t\tnein\t\tnein\t\tnein\t\tnein\n",
            "164\t\tnein\t\tnein\t\tnein\t\tnein\t\tnein\t\tnein\n",
            "165\t\tnein\t\tnein\t\tnein\t\tnein\t\tnein\t\tnein\n",
            "166\t\tnein\t\tnein\t\tnein\t\tnein\t\tnein\t\tnein\n",
            "167\t\tnein\t\tnein\t\tnein\t\tnein\t\tnein\t\tnein\n",
            "168\t\tnein\t\tja\t\tnein\t\tnein\t\tnein\t\tnein\n",
            "169\t\tnein\t\tnein\t\tnein\t\tnein\t\tnein\t\tnein\n",
            "170\t\tnein\t\tja\t\tnein\t\tnein\t\tnein\t\tnein\n",
            "171\t\tnein\t\tja\t\tnein\t\tnein\t\tnein\t\tnein\n",
            "172\t\tnein\t\tja\t\tnein\t\tnein\t\tnein\t\tnein\n",
            "173\t\tnein\t\tnein\t\tnein\t\tnein\t\tnein\t\tnein\n",
            "174\t\tnein\t\tnein\t\tnein\t\tnein\t\tnein\t\tnein\n",
            "175\t\tnein\t\tja\t\tnein\t\tnein\t\tnein\t\tnein\n",
            "176\t\tnein\t\tnein\t\tnein\t\tnein\t\tnein\t\tnein\n",
            "177\t\tnein\t\tnein\t\tnein\t\tnein\t\tnein\t\tnein\n",
            "178\t\tnein\t\tnein\t\tnein\t\tnein\t\tnein\t\tnein\n",
            "179\t\tnein\t\tnein\t\tnein\t\tnein\t\tnein\t\tnein\n",
            "180\t\tja\t\tja\t\tnein\t\tnein\t\tnein\t\tnein\n",
            "181\t\tnein\t\tja\t\tnein\t\tnein\t\tnein\t\tnein\n",
            "182\t\tnein\t\tnein\t\tnein\t\tnein\t\tnein\t\tnein\n",
            "183\t\tnein\t\tnein\t\tnein\t\tnein\t\tnein\t\tnein\n",
            "184\t\tnein\t\tnein\t\tnein\t\tnein\t\tnein\t\tnein\n",
            "185\t\tnein\t\tja\t\tnein\t\tnein\t\tnein\t\tnein\n",
            "186\t\tnein\t\tnein\t\tnein\t\tnein\t\tnein\t\tnein\n",
            "187\t\tnein\t\tnein\t\tnein\t\tnein\t\tnein\t\tnein\n",
            "188\t\tnein\t\tja\t\tnein\t\tnein\t\tja\t\tnein\n",
            "189\t\tnein\t\tja\t\tnein\t\tnein\t\tnein\t\tnein\n",
            "190\t\tnein\t\tnein\t\tnein\t\tnein\t\tnein\t\tnein\n",
            "191\t\tnein\t\tja\t\tnein\t\tnein\t\tnein\t\tnein\n",
            "192\t\tnein\t\tnein\t\tnein\t\tnein\t\tnein\t\tnein\n",
            "193\t\tnein\t\tnein\t\tnein\t\tnein\t\tnein\t\tnein\n",
            "194\t\tnein\t\tnein\t\tnein\t\tnein\t\tnein\t\tnein\n",
            "195\t\tja\t\tja\t\tnein\t\tnein\t\tnein\t\tnein\n",
            "196\t\tnein\t\tja\t\tnein\t\tnein\t\tnein\t\tnein\n",
            "197\t\tja\t\tja\t\tnein\t\tnein\t\tnein\t\tnein\n",
            "198\t\tnein\t\tja\t\tnein\t\tnein\t\tnein\t\tnein\n",
            "199\t\tnein\t\tnein\t\tnein\t\tnein\t\tnein\t\tnein\n",
            "200\t\tnein\t\tja\t\tnein\t\tnein\t\tnein\t\tnein\n",
            "201\t\tnein\t\tnein\t\tnein\t\tnein\t\tnein\t\tnein\n",
            "202\t\tnein\t\tja\t\tnein\t\tnein\t\tnein\t\tnein\n",
            "203\t\tnein\t\tnein\t\tnein\t\tnein\t\tnein\t\tnein\n",
            "204\t\tja\t\tja\t\tnein\t\tnein\t\tnein\t\tnein\n",
            "205\t\tnein\t\tnein\t\tnein\t\tnein\t\tnein\t\tnein\n",
            "206\t\tnein\t\tja\t\tnein\t\tnein\t\tnein\t\tnein\n",
            "207\t\tnein\t\tnein\t\tnein\t\tnein\t\tnein\t\tnein\n",
            "208\t\tnein\t\tnein\t\tnein\t\tnein\t\tnein\t\tnein\n",
            "209\t\tnein\t\tja\t\tnein\t\tnein\t\tnein\t\tnein\n",
            "210\t\tnein\t\tnein\t\tnein\t\tnein\t\tnein\t\tnein\n",
            "211\t\tja\t\tja\t\tnein\t\tnein\t\tnein\t\tnein\n",
            "212\t\tnein\t\tnein\t\tnein\t\tnein\t\tnein\t\tnein\n",
            "213\t\tnein\t\tnein\t\tnein\t\tnein\t\tnein\t\tnein\n",
            "214\t\tnein\t\tja\t\tnein\t\tnein\t\tnein\t\tnein\n",
            "215\t\tnein\t\tnein\t\tnein\t\tnein\t\tnein\t\tnein\n",
            "216\t\tja\t\tnein\t\tnein\t\tnein\t\tnein\t\tnein\n",
            "217\t\tnein\t\tnein\t\tnein\t\tnein\t\tnein\t\tnein\n",
            "218\t\tnein\t\tja\t\tnein\t\tja\t\tnein\t\tnein\n",
            "219\t\tnein\t\tnein\t\tnein\t\tnein\t\tnein\t\tnein\n",
            "220\t\tnein\t\tnein\t\tnein\t\tnein\t\tnein\t\tnein\n",
            "221\t\tnein\t\tja\t\tnein\t\tnein\t\tnein\t\tnein\n",
            "222\t\tnein\t\tnein\t\tnein\t\tnein\t\tnein\t\tnein\n",
            "223\t\tnein\t\tnein\t\tnein\t\tnein\t\tnein\t\tnein\n",
            "224\t\tnein\t\tnein\t\tnein\t\tnein\t\tnein\t\tnein\n",
            "225\t\tnein\t\tnein\t\tnein\t\tnein\t\tnein\t\tnein\n",
            "226\t\tnein\t\tnein\t\tnein\t\tnein\t\tnein\t\tnein\n",
            "227\t\tnein\t\tja\t\tnein\t\tnein\t\tnein\t\tnein\n",
            "228\t\tnein\t\tnein\t\tnein\t\tnein\t\tnein\t\tnein\n",
            "229\t\tnein\t\tnein\t\tnein\t\tnein\t\tnein\t\tnein\n",
            "230\t\tnein\t\tnein\t\tnein\t\tnein\t\tnein\t\tnein\n",
            "231\t\tnein\t\tnein\t\tnein\t\tnein\t\tnein\t\tnein\n",
            "232\t\tnein\t\tja\t\tnein\t\tnein\t\tnein\t\tnein\n",
            "233\t\tnein\t\tnein\t\tnein\t\tnein\t\tnein\t\tnein\n",
            "234\t\tnein\t\tja\t\tnein\t\tnein\t\tnein\t\tnein\n",
            "235\t\tja\t\tja\t\tnein\t\tnein\t\tnein\t\tnein\n",
            "236\t\tnein\t\tja\t\tnein\t\tnein\t\tnein\t\tnein\n",
            "237\t\tnein\t\tja\t\tnein\t\tnein\t\tnein\t\tnein\n",
            "238\t\tnein\t\tnein\t\tnein\t\tnein\t\tnein\t\tnein\n",
            "239\t\tnein\t\tnein\t\tnein\t\tnein\t\tnein\t\tnein\n",
            "240\t\tnein\t\tnein\t\tnein\t\tnein\t\tnein\t\tnein\n",
            "241\t\tnein\t\tja\t\tnein\t\tnein\t\tnein\t\tnein\n",
            "242\t\tnein\t\tnein\t\tnein\t\tnein\t\tnein\t\tnein\n",
            "243\t\tnein\t\tnein\t\tnein\t\tnein\t\tnein\t\tnein\n",
            "244\t\tnein\t\tja\t\tnein\t\tnein\t\tnein\t\tnein\n",
            "245\t\tnein\t\tja\t\tnein\t\tnein\t\tnein\t\tnein\n",
            "246\t\tnein\t\tnein\t\tnein\t\tnein\t\tnein\t\tnein\n",
            "247\t\tnein\t\tnein\t\tnein\t\tnein\t\tnein\t\tnein\n",
            "248\t\tnein\t\tnein\t\tnein\t\tnein\t\tnein\t\tnein\n",
            "249\t\tnein\t\tnein\t\tnein\t\tnein\t\tnein\t\tnein\n"
          ],
          "name": "stdout"
        }
      ]
    },
    {
      "cell_type": "code",
      "metadata": {
        "colab": {
          "base_uri": "https://localhost:8080/",
          "height": 35
        },
        "id": "CVc199cKCNnf",
        "outputId": "dd1b8aa8-7fb6-4614-cb99-133f945bb9b0"
      },
      "source": [
        "''"
      ],
      "execution_count": null,
      "outputs": [
        {
          "output_type": "execute_result",
          "data": {
            "application/vnd.google.colaboratory.intrinsic+json": {
              "type": "string"
            },
            "text/plain": [
              "''"
            ]
          },
          "metadata": {
            "tags": []
          },
          "execution_count": 259
        }
      ]
    }
  ]
}